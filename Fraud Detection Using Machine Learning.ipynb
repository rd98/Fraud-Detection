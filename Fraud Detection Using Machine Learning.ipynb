{
 "cells": [
  {
   "cell_type": "markdown",
   "metadata": {},
   "source": [
    "# Fraud Detection Using Machine Learning"
   ]
  },
  {
   "cell_type": "markdown",
   "metadata": {},
   "source": [
    "For this analysis I used the Paysim dataset. 'PaySim simulates mobile money transactions based on a sample of real transactions extracted from one month of financial logs from a mobile money service implemented in an African country. The original logs were provided by a multinational company, who is the provider of the mobile financial service which is currently running in more than 14 countries all around the world.'\n",
    "Note: Data pre-processing was simplified for this project as my goal was to improve my knowledge of neural network application in Pytorch.\n"
   ]
  },
  {
   "cell_type": "markdown",
   "metadata": {},
   "source": [
    "# The variables provided are as follows\n",
    "1. step - maps a unit of time in the real world. In this case 1 step is 1 hour of time. Total steps 744 (30 days simulation).\n",
    "2. type - type of transaction : CASH-IN, CASH-OUT, DEBIT, PAYMENT and TRANSFER.\n",
    "3. amount - amount of the transaction in local currency.\n",
    "4. nameOrig - customer who started the transaction\n",
    "5. oldbalanceOrg - initial balance before the transaction\n",
    "6. newbalanceOrig - new balance after the transaction\n",
    "7. nameDest - customer who is the recipient of the transaction\n",
    "8. oldbalanceDest - initial balance recipient before the transaction. \n",
    "9. newbalanceDest - new balance recipient after the transaction. \n",
    "10. isFraud - This is the transactions made by the fraudulent agents inside the simulation. In this specific dataset the fraudulent behavior of the agents aims to profit by taking control or customers accounts and try to empty the funds by transferring to another account and then cashing out of the system.\n",
    "11. isFlaggedFraud - The business model aims to control massive transfers from one account to another and flags illegal attempts. An illegal attempt in this dataset is an attempt to transfer more than 200.000 in a single transaction\n"
   ]
  },
  {
   "cell_type": "code",
   "execution_count": 1,
   "metadata": {
    "collapsed": true
   },
   "outputs": [],
   "source": [
    "import pandas as pd\n",
    "import numpy as np\n",
    "import random\n",
    "import matplotlib.pyplot as plt\n",
    "\n",
    "import torch\n",
    "\n",
    "import torch.nn as nn\n",
    "import torch.nn.functional as F\n",
    "from torch import optim\n",
    "import torch.utils.data as Data\n",
    "\n",
    "from sklearn.model_selection import train_test_split\n",
    "from sklearn import metrics"
   ]
  },
  {
   "cell_type": "markdown",
   "metadata": {},
   "source": [
    "__Load the data and print out the top 5 entries__"
   ]
  },
  {
   "cell_type": "code",
   "execution_count": 2,
   "metadata": {
    "collapsed": true
   },
   "outputs": [],
   "source": [
    "data = pd.read_csv('paysim.csv')"
   ]
  },
  {
   "cell_type": "code",
   "execution_count": 3,
   "metadata": {},
   "outputs": [
    {
     "name": "stdout",
     "output_type": "stream",
     "text": [
      "Number of entries: 6362620\n",
      "Number of fraudulent transactions:  8213\n"
     ]
    },
    {
     "data": {
      "text/html": [
       "<div>\n",
       "<style scoped>\n",
       "    .dataframe tbody tr th:only-of-type {\n",
       "        vertical-align: middle;\n",
       "    }\n",
       "\n",
       "    .dataframe tbody tr th {\n",
       "        vertical-align: top;\n",
       "    }\n",
       "\n",
       "    .dataframe thead th {\n",
       "        text-align: right;\n",
       "    }\n",
       "</style>\n",
       "<table border=\"1\" class=\"dataframe\">\n",
       "  <thead>\n",
       "    <tr style=\"text-align: right;\">\n",
       "      <th></th>\n",
       "      <th>step</th>\n",
       "      <th>type</th>\n",
       "      <th>amount</th>\n",
       "      <th>nameOrig</th>\n",
       "      <th>oldbalanceOrg</th>\n",
       "      <th>newbalanceOrig</th>\n",
       "      <th>nameDest</th>\n",
       "      <th>oldbalanceDest</th>\n",
       "      <th>newbalanceDest</th>\n",
       "      <th>isFraud</th>\n",
       "      <th>isFlaggedFraud</th>\n",
       "    </tr>\n",
       "  </thead>\n",
       "  <tbody>\n",
       "    <tr>\n",
       "      <th>0</th>\n",
       "      <td>1</td>\n",
       "      <td>PAYMENT</td>\n",
       "      <td>9839.64</td>\n",
       "      <td>C1231006815</td>\n",
       "      <td>170136.0</td>\n",
       "      <td>160296.36</td>\n",
       "      <td>M1979787155</td>\n",
       "      <td>0.0</td>\n",
       "      <td>0.0</td>\n",
       "      <td>0</td>\n",
       "      <td>0</td>\n",
       "    </tr>\n",
       "    <tr>\n",
       "      <th>1</th>\n",
       "      <td>1</td>\n",
       "      <td>PAYMENT</td>\n",
       "      <td>1864.28</td>\n",
       "      <td>C1666544295</td>\n",
       "      <td>21249.0</td>\n",
       "      <td>19384.72</td>\n",
       "      <td>M2044282225</td>\n",
       "      <td>0.0</td>\n",
       "      <td>0.0</td>\n",
       "      <td>0</td>\n",
       "      <td>0</td>\n",
       "    </tr>\n",
       "    <tr>\n",
       "      <th>2</th>\n",
       "      <td>1</td>\n",
       "      <td>TRANSFER</td>\n",
       "      <td>181.00</td>\n",
       "      <td>C1305486145</td>\n",
       "      <td>181.0</td>\n",
       "      <td>0.00</td>\n",
       "      <td>C553264065</td>\n",
       "      <td>0.0</td>\n",
       "      <td>0.0</td>\n",
       "      <td>1</td>\n",
       "      <td>0</td>\n",
       "    </tr>\n",
       "    <tr>\n",
       "      <th>3</th>\n",
       "      <td>1</td>\n",
       "      <td>CASH_OUT</td>\n",
       "      <td>181.00</td>\n",
       "      <td>C840083671</td>\n",
       "      <td>181.0</td>\n",
       "      <td>0.00</td>\n",
       "      <td>C38997010</td>\n",
       "      <td>21182.0</td>\n",
       "      <td>0.0</td>\n",
       "      <td>1</td>\n",
       "      <td>0</td>\n",
       "    </tr>\n",
       "    <tr>\n",
       "      <th>4</th>\n",
       "      <td>1</td>\n",
       "      <td>PAYMENT</td>\n",
       "      <td>11668.14</td>\n",
       "      <td>C2048537720</td>\n",
       "      <td>41554.0</td>\n",
       "      <td>29885.86</td>\n",
       "      <td>M1230701703</td>\n",
       "      <td>0.0</td>\n",
       "      <td>0.0</td>\n",
       "      <td>0</td>\n",
       "      <td>0</td>\n",
       "    </tr>\n",
       "  </tbody>\n",
       "</table>\n",
       "</div>"
      ],
      "text/plain": [
       "   step      type    amount     nameOrig  oldbalanceOrg  newbalanceOrig  \\\n",
       "0     1   PAYMENT   9839.64  C1231006815       170136.0       160296.36   \n",
       "1     1   PAYMENT   1864.28  C1666544295        21249.0        19384.72   \n",
       "2     1  TRANSFER    181.00  C1305486145          181.0            0.00   \n",
       "3     1  CASH_OUT    181.00   C840083671          181.0            0.00   \n",
       "4     1   PAYMENT  11668.14  C2048537720        41554.0        29885.86   \n",
       "\n",
       "      nameDest  oldbalanceDest  newbalanceDest  isFraud  isFlaggedFraud  \n",
       "0  M1979787155             0.0             0.0        0               0  \n",
       "1  M2044282225             0.0             0.0        0               0  \n",
       "2   C553264065             0.0             0.0        1               0  \n",
       "3    C38997010         21182.0             0.0        1               0  \n",
       "4  M1230701703             0.0             0.0        0               0  "
      ]
     },
     "execution_count": 3,
     "metadata": {},
     "output_type": "execute_result"
    }
   ],
   "source": [
    "print('Number of entries: {}'.format(len(data)))\n",
    "print('Number of fraudulent transactions: ', data['isFraud'].sum())\n",
    "data.head(5)"
   ]
  },
  {
   "cell_type": "markdown",
   "metadata": {},
   "source": [
    "As we can see, the dataset is over 6,000,000 entries in length with only 8213 of those being fraudulent transactions. In order to get accurate testing and training we need to have a more even balance of fraudulent and non-fraudulent transactions.\n",
    "\n",
    "For example, consider testing a model on the dataset as it stands. If the model were to predict every transaction as non-fraudulent it would actually correctly predict 99.87% of cases while being utterly useless to the user.\n",
    "\n",
    "And so, we must creat a new dataset with a more even proportion. (Note: This is a simplistic approach to solving this problem)"
   ]
  },
  {
   "cell_type": "code",
   "execution_count": 4,
   "metadata": {},
   "outputs": [
    {
     "name": "stdout",
     "output_type": "stream",
     "text": [
      "16426\n"
     ]
    },
    {
     "data": {
      "text/html": [
       "<div>\n",
       "<style scoped>\n",
       "    .dataframe tbody tr th:only-of-type {\n",
       "        vertical-align: middle;\n",
       "    }\n",
       "\n",
       "    .dataframe tbody tr th {\n",
       "        vertical-align: top;\n",
       "    }\n",
       "\n",
       "    .dataframe thead th {\n",
       "        text-align: right;\n",
       "    }\n",
       "</style>\n",
       "<table border=\"1\" class=\"dataframe\">\n",
       "  <thead>\n",
       "    <tr style=\"text-align: right;\">\n",
       "      <th></th>\n",
       "      <th>step</th>\n",
       "      <th>type</th>\n",
       "      <th>amount</th>\n",
       "      <th>nameOrig</th>\n",
       "      <th>oldbalanceOrg</th>\n",
       "      <th>newbalanceOrig</th>\n",
       "      <th>nameDest</th>\n",
       "      <th>oldbalanceDest</th>\n",
       "      <th>newbalanceDest</th>\n",
       "      <th>isFraud</th>\n",
       "      <th>isFlaggedFraud</th>\n",
       "    </tr>\n",
       "  </thead>\n",
       "  <tbody>\n",
       "    <tr>\n",
       "      <th>2146700</th>\n",
       "      <td>184</td>\n",
       "      <td>CASH_IN</td>\n",
       "      <td>15799.81</td>\n",
       "      <td>C801883900</td>\n",
       "      <td>1810386.28</td>\n",
       "      <td>1826186.10</td>\n",
       "      <td>C730999562</td>\n",
       "      <td>1202560.38</td>\n",
       "      <td>1186760.56</td>\n",
       "      <td>0</td>\n",
       "      <td>0</td>\n",
       "    </tr>\n",
       "    <tr>\n",
       "      <th>790064</th>\n",
       "      <td>40</td>\n",
       "      <td>CASH_OUT</td>\n",
       "      <td>280378.73</td>\n",
       "      <td>C71180095</td>\n",
       "      <td>105100.00</td>\n",
       "      <td>0.00</td>\n",
       "      <td>C372682046</td>\n",
       "      <td>0.00</td>\n",
       "      <td>372907.54</td>\n",
       "      <td>0</td>\n",
       "      <td>0</td>\n",
       "    </tr>\n",
       "    <tr>\n",
       "      <th>6186780</th>\n",
       "      <td>568</td>\n",
       "      <td>CASH_OUT</td>\n",
       "      <td>30790.13</td>\n",
       "      <td>C642401754</td>\n",
       "      <td>30790.13</td>\n",
       "      <td>0.00</td>\n",
       "      <td>C1650668671</td>\n",
       "      <td>148453.03</td>\n",
       "      <td>179243.16</td>\n",
       "      <td>1</td>\n",
       "      <td>0</td>\n",
       "    </tr>\n",
       "    <tr>\n",
       "      <th>3880925</th>\n",
       "      <td>283</td>\n",
       "      <td>CASH_IN</td>\n",
       "      <td>252165.57</td>\n",
       "      <td>C1314948667</td>\n",
       "      <td>208701.00</td>\n",
       "      <td>460866.57</td>\n",
       "      <td>C732219295</td>\n",
       "      <td>72918.72</td>\n",
       "      <td>0.00</td>\n",
       "      <td>0</td>\n",
       "      <td>0</td>\n",
       "    </tr>\n",
       "    <tr>\n",
       "      <th>2127411</th>\n",
       "      <td>183</td>\n",
       "      <td>CASH_IN</td>\n",
       "      <td>83851.62</td>\n",
       "      <td>C1042939419</td>\n",
       "      <td>2383332.86</td>\n",
       "      <td>2467184.49</td>\n",
       "      <td>C1542088744</td>\n",
       "      <td>117507.82</td>\n",
       "      <td>33656.20</td>\n",
       "      <td>0</td>\n",
       "      <td>0</td>\n",
       "    </tr>\n",
       "  </tbody>\n",
       "</table>\n",
       "</div>"
      ],
      "text/plain": [
       "         step      type     amount     nameOrig  oldbalanceOrg  \\\n",
       "2146700   184   CASH_IN   15799.81   C801883900     1810386.28   \n",
       "790064     40  CASH_OUT  280378.73    C71180095      105100.00   \n",
       "6186780   568  CASH_OUT   30790.13   C642401754       30790.13   \n",
       "3880925   283   CASH_IN  252165.57  C1314948667      208701.00   \n",
       "2127411   183   CASH_IN   83851.62  C1042939419     2383332.86   \n",
       "\n",
       "         newbalanceOrig     nameDest  oldbalanceDest  newbalanceDest  isFraud  \\\n",
       "2146700      1826186.10   C730999562      1202560.38      1186760.56        0   \n",
       "790064             0.00   C372682046            0.00       372907.54        0   \n",
       "6186780            0.00  C1650668671       148453.03       179243.16        1   \n",
       "3880925       460866.57   C732219295        72918.72            0.00        0   \n",
       "2127411      2467184.49  C1542088744       117507.82        33656.20        0   \n",
       "\n",
       "         isFlaggedFraud  \n",
       "2146700               0  \n",
       "790064                0  \n",
       "6186780               0  \n",
       "3880925               0  \n",
       "2127411               0  "
      ]
     },
     "execution_count": 4,
     "metadata": {},
     "output_type": "execute_result"
    }
   ],
   "source": [
    "# Firstly create a dataframe containing only the fraudulent transactions\n",
    "fraud = data[data['isFraud'] == 1]\n",
    "\n",
    "# Similary for non-fraudulent\n",
    "non_fraud = data[data['isFraud'] == 0]\n",
    "\n",
    "# Now take a random sample from the non_fraud data of size equal to the size of the fraudulent data\n",
    "non_fraud = non_fraud.sample(n=len(fraud))\n",
    "#non_fraud = non_fraud.sample(n=50000)\n",
    "\n",
    "# Now combine the two dataframes\n",
    "# This will yield a dataframe with half fraudulent and half non-fraudulent transactions as required\n",
    "new_data = pd.concat([fraud, non_fraud])\n",
    "\n",
    "# Randomise the order of entries\n",
    "new_data = new_data.sample(frac=1)\n",
    "\n",
    "print(len(new_data))\n",
    "new_data.head()"
   ]
  },
  {
   "cell_type": "markdown",
   "metadata": {},
   "source": [
    "# Data preperation for use training model\n",
    "1. Remove useless variables\n",
    "2. One-hot encode categorical variables"
   ]
  },
  {
   "cell_type": "markdown",
   "metadata": {},
   "source": [
    "## 1. Remove useless variables"
   ]
  },
  {
   "cell_type": "code",
   "execution_count": 5,
   "metadata": {},
   "outputs": [
    {
     "data": {
      "image/png": "[encoded data removed]",
      "text/plain": [
       "<matplotlib.figure.Figure at 0x1068ee518>"
      ]
     },
     "metadata": {},
     "output_type": "display_data"
    }
   ],
   "source": [
    "labels = ['nameOrig', 'nameDest']\n",
    "counts = []\n",
    "for i in labels:\n",
    "    counts.append(len(data[i].unique()))\n",
    "\n",
    "plt.bar(labels, counts)\n",
    "plt.title('Number of unique categories in various columns')\n",
    "plt.show()"
   ]
  },
  {
   "cell_type": "markdown",
   "metadata": {},
   "source": [
    "1. nameOrig - this variable has too many unique categories, as can be seen above, and so is not a useful predictor\n",
    "2. nameDest - can be dropped for same reasoning\n",
    "3. isFlaggedFraud - Remove since this is our target\n",
    "4. step - This variable could be a useful predictor however it would have to be one-hot encoded into bins of 6 hour intervals for example. We will not be doing this here and so we drop it\n",
    "\n",
    "Note: nameOrig and nameDest could be useful if we were given more info that would allow us to put them into a reasonable number of categories for one-hot encoding. \n",
    "For example: If we knew that nameOrig values staring with 'C1' meant something different to those starting with 'C2'  we could one-hot encode but we are not told any extra information in this case and so we can drop it."
   ]
  },
  {
   "cell_type": "code",
   "execution_count": 6,
   "metadata": {
    "collapsed": true
   },
   "outputs": [],
   "source": [
    "new_data.drop(['nameOrig'], axis = 1, inplace = True)\n",
    "new_data.drop(['nameDest'], axis = 1, inplace = True)\n",
    "new_data.drop(['isFlaggedFraud'], axis = 1, inplace = True)\n",
    "new_data.drop(['step'], axis = 1, inplace = True)"
   ]
  },
  {
   "cell_type": "markdown",
   "metadata": {},
   "source": [
    "## 2. One-hot encode categorical variables\n",
    "In this case, the _type_ variable can be one-hot encoded into 5 categories;\n",
    "1. Cash_Out\n",
    "2. Cash_In\n",
    "3. Debit\n",
    "4. Payment\n",
    "5. Transfer"
   ]
  },
  {
   "cell_type": "code",
   "execution_count": 7,
   "metadata": {
    "collapsed": true
   },
   "outputs": [],
   "source": [
    "\"\"\"\n",
    "One hot encoding:\n",
    "    We want it so that there is a new column for each type of payment listed above\n",
    "    In each column we want a 1 if this is the type of payment listed and 0 otherwise\n",
    "\"\"\"\n",
    "\n",
    "#This for loop will create the columns with a True or False value in them\n",
    "for payment_type in new_data.type.unique():\n",
    "    new_data[payment_type] = new_data['type'] == payment_type\n",
    "\n",
    "# Now we convert these True/False values to 1 or 0\n",
    "for payment_type in new_data.type.unique():\n",
    "    new_data[payment_type] = np.where(new_data[payment_type] == True, 1, 0)\n",
    "\n",
    "#Now we can remove the type column\n",
    "new_data.drop(['type'], axis = 1, inplace = True)"
   ]
  },
  {
   "cell_type": "code",
   "execution_count": 8,
   "metadata": {},
   "outputs": [
    {
     "data": {
      "text/html": [
       "<div>\n",
       "<style scoped>\n",
       "    .dataframe tbody tr th:only-of-type {\n",
       "        vertical-align: middle;\n",
       "    }\n",
       "\n",
       "    .dataframe tbody tr th {\n",
       "        vertical-align: top;\n",
       "    }\n",
       "\n",
       "    .dataframe thead th {\n",
       "        text-align: right;\n",
       "    }\n",
       "</style>\n",
       "<table border=\"1\" class=\"dataframe\">\n",
       "  <thead>\n",
       "    <tr style=\"text-align: right;\">\n",
       "      <th></th>\n",
       "      <th>amount</th>\n",
       "      <th>oldbalanceOrg</th>\n",
       "      <th>newbalanceOrig</th>\n",
       "      <th>oldbalanceDest</th>\n",
       "      <th>newbalanceDest</th>\n",
       "      <th>isFraud</th>\n",
       "      <th>CASH_IN</th>\n",
       "      <th>CASH_OUT</th>\n",
       "      <th>PAYMENT</th>\n",
       "      <th>TRANSFER</th>\n",
       "      <th>DEBIT</th>\n",
       "    </tr>\n",
       "  </thead>\n",
       "  <tbody>\n",
       "    <tr>\n",
       "      <th>2146700</th>\n",
       "      <td>15799.81</td>\n",
       "      <td>1810386.28</td>\n",
       "      <td>1826186.10</td>\n",
       "      <td>1202560.38</td>\n",
       "      <td>1186760.56</td>\n",
       "      <td>0</td>\n",
       "      <td>1</td>\n",
       "      <td>0</td>\n",
       "      <td>0</td>\n",
       "      <td>0</td>\n",
       "      <td>0</td>\n",
       "    </tr>\n",
       "    <tr>\n",
       "      <th>790064</th>\n",
       "      <td>280378.73</td>\n",
       "      <td>105100.00</td>\n",
       "      <td>0.00</td>\n",
       "      <td>0.00</td>\n",
       "      <td>372907.54</td>\n",
       "      <td>0</td>\n",
       "      <td>0</td>\n",
       "      <td>1</td>\n",
       "      <td>0</td>\n",
       "      <td>0</td>\n",
       "      <td>0</td>\n",
       "    </tr>\n",
       "    <tr>\n",
       "      <th>6186780</th>\n",
       "      <td>30790.13</td>\n",
       "      <td>30790.13</td>\n",
       "      <td>0.00</td>\n",
       "      <td>148453.03</td>\n",
       "      <td>179243.16</td>\n",
       "      <td>1</td>\n",
       "      <td>0</td>\n",
       "      <td>1</td>\n",
       "      <td>0</td>\n",
       "      <td>0</td>\n",
       "      <td>0</td>\n",
       "    </tr>\n",
       "    <tr>\n",
       "      <th>3880925</th>\n",
       "      <td>252165.57</td>\n",
       "      <td>208701.00</td>\n",
       "      <td>460866.57</td>\n",
       "      <td>72918.72</td>\n",
       "      <td>0.00</td>\n",
       "      <td>0</td>\n",
       "      <td>1</td>\n",
       "      <td>0</td>\n",
       "      <td>0</td>\n",
       "      <td>0</td>\n",
       "      <td>0</td>\n",
       "    </tr>\n",
       "    <tr>\n",
       "      <th>2127411</th>\n",
       "      <td>83851.62</td>\n",
       "      <td>2383332.86</td>\n",
       "      <td>2467184.49</td>\n",
       "      <td>117507.82</td>\n",
       "      <td>33656.20</td>\n",
       "      <td>0</td>\n",
       "      <td>1</td>\n",
       "      <td>0</td>\n",
       "      <td>0</td>\n",
       "      <td>0</td>\n",
       "      <td>0</td>\n",
       "    </tr>\n",
       "  </tbody>\n",
       "</table>\n",
       "</div>"
      ],
      "text/plain": [
       "            amount  oldbalanceOrg  newbalanceOrig  oldbalanceDest  \\\n",
       "2146700   15799.81     1810386.28      1826186.10      1202560.38   \n",
       "790064   280378.73      105100.00            0.00            0.00   \n",
       "6186780   30790.13       30790.13            0.00       148453.03   \n",
       "3880925  252165.57      208701.00       460866.57        72918.72   \n",
       "2127411   83851.62     2383332.86      2467184.49       117507.82   \n",
       "\n",
       "         newbalanceDest  isFraud  CASH_IN  CASH_OUT  PAYMENT  TRANSFER  DEBIT  \n",
       "2146700      1186760.56        0        1         0        0         0      0  \n",
       "790064        372907.54        0        0         1        0         0      0  \n",
       "6186780       179243.16        1        0         1        0         0      0  \n",
       "3880925            0.00        0        1         0        0         0      0  \n",
       "2127411        33656.20        0        1         0        0         0      0  "
      ]
     },
     "execution_count": 8,
     "metadata": {},
     "output_type": "execute_result"
    }
   ],
   "source": [
    "new_data.head()"
   ]
  },
  {
   "cell_type": "markdown",
   "metadata": {},
   "source": [
    "# Formatting the Data for use in Pytorch model\n",
    "Now that the data has been processed and only the variables we need remain we need to convert our data to tensors and then create DataLoaders so that the model knows which are the target variables and which are the predictor variables."
   ]
  },
  {
   "cell_type": "code",
   "execution_count": 9,
   "metadata": {
    "collapsed": true
   },
   "outputs": [],
   "source": [
    "train, test = train_test_split(new_data, test_size=0.3)\n",
    "\n",
    "train_targets = train.as_matrix(columns = ['isFraud'])\n",
    "train_predictors = train.drop(['isFraud'], axis = 1)\n",
    "train_predictors = train_predictors.as_matrix()\n",
    "\n",
    "test_targets = test.as_matrix(columns = ['isFraud'])\n",
    "test_predictors = test.drop(['isFraud'], axis=1)\n",
    "test_predictors = test_predictors.as_matrix()\n",
    "\n",
    "train_targets = torch.tensor(train_targets)\n",
    "train_predictors = torch.tensor(train_predictors)\n",
    "\n",
    "test_targets = torch.tensor(test_targets)\n",
    "test_predictors = torch.tensor(test_predictors)\n",
    "\n",
    "# TrainLoader\n",
    "torch_dataset = Data.TensorDataset(train_predictors, train_targets)\n",
    "BATCH_SIZE = 60\n",
    "trainloader = Data.DataLoader(\n",
    "    dataset = torch_dataset,\n",
    "    batch_size = BATCH_SIZE,\n",
    "    shuffle = True,\n",
    "    num_workers = 2)\n",
    "\n",
    "# Validation loader\n",
    "torch_dataset = Data.TensorDataset(test_predictors, test_targets)\n",
    "BATCH_SIZE = 60\n",
    "validloader = Data.DataLoader(\n",
    "    dataset=torch_dataset,      # torch TensorDataset format\n",
    "    batch_size=BATCH_SIZE,      # mini batch size\n",
    "    shuffle=True,               # random shuffle for training\n",
    "    num_workers=2,              # subprocesses for loading data\n",
    ")"
   ]
  },
  {
   "cell_type": "code",
   "execution_count": 10,
   "metadata": {},
   "outputs": [
    {
     "name": "stdout",
     "output_type": "stream",
     "text": [
      "<class 'torch.Tensor'>\n",
      "<class 'torch.utils.data.dataloader.DataLoader'>\n"
     ]
    }
   ],
   "source": [
    "print(type(train_predictors))\n",
    "print(type(trainloader))"
   ]
  },
  {
   "cell_type": "code",
   "execution_count": 11,
   "metadata": {},
   "outputs": [
    {
     "name": "stdout",
     "output_type": "stream",
     "text": [
      "<class 'torch.Tensor'>\n"
     ]
    }
   ],
   "source": [
    "for step, (batch_x, batch_y) in enumerate(trainloader):\n",
    "    print(type(batch_x))\n",
    "    break"
   ]
  },
  {
   "cell_type": "markdown",
   "metadata": {},
   "source": [
    "# Define a function to build the model / network\n",
    "\n",
    "We allow for a specified number of hidden layers and also incorporate dropout to try and prevent overfitting of the training data."
   ]
  },
  {
   "cell_type": "code",
   "execution_count": 12,
   "metadata": {
    "collapsed": true
   },
   "outputs": [],
   "source": [
    "class Network(nn.Module):\n",
    "    def __init__(self, input_size, output_size, hidden_layers, drop_p=0.5):\n",
    "        ''' Builds a feedforward network with arbitrary hidden layers.\n",
    "        \n",
    "            Arguments\n",
    "            ---------\n",
    "            input_size: integer, size of the input\n",
    "            output_size: integer, size of the output layer\n",
    "            hidden_layers: list of integers, the sizes of the hidden layers\n",
    "            drop_p: float between 0 and 1, dropout probability\n",
    "        '''\n",
    "        super().__init__()\n",
    "        # Add the first layer, input to a hidden layer\n",
    "        self.hidden_layers = nn.ModuleList([nn.Linear(input_size, hidden_layers[0])])\n",
    "        \n",
    "        # Add a variable number of more hidden layers\n",
    "        layer_sizes = zip(hidden_layers[:-1], hidden_layers[1:])\n",
    "        self.hidden_layers.extend([nn.Linear(h1, h2) for h1, h2 in layer_sizes])\n",
    "        \n",
    "        self.output = nn.Linear(hidden_layers[-1], output_size)\n",
    "        \n",
    "        self.dropout = nn.Dropout(p=drop_p)\n",
    "        \n",
    "    def forward(self, x):\n",
    "        ''' Forward pass through the network, returns the output logits '''\n",
    "        \n",
    "        # Forward through each layer in `hidden_layers`, with ReLU activation and dropout\n",
    "        for linear in self.hidden_layers:\n",
    "            x = F.relu(linear(x))\n",
    "            x = self.dropout(x)\n",
    "        \n",
    "        x = self.output(x)\n",
    "        \n",
    "        return F.sigmoid(x)"
   ]
  },
  {
   "cell_type": "markdown",
   "metadata": {},
   "source": [
    "# Define a function to test the accuracy of the model"
   ]
  },
  {
   "cell_type": "code",
   "execution_count": 13,
   "metadata": {
    "collapsed": true
   },
   "outputs": [],
   "source": [
    "def validation(model, loader, criterion):\n",
    "    device='cpu'\n",
    "    model.to(device)\n",
    "    test_loss = 0\n",
    "    accuracy = 0\n",
    "    for step, (batch_x, batch_y) in enumerate(loader):\n",
    "        batch_x, batch_y = batch_x.to(device), batch_y.to(device)\n",
    "        batch_x = batch_x.float()\n",
    "        batch_y = batch_y.long().squeeze()\n",
    "        #batch_x.resize_(batch_x.shape[0], 150528)\n",
    "\n",
    "        output = model.forward(batch_x)\n",
    "        test_loss += criterion(output, batch_y).item()\n",
    "\n",
    "        ps = torch.exp(output)\n",
    "        equality = (batch_y.data == ps.max(dim=1)[1])\n",
    "        accuracy += equality.type(torch.FloatTensor).mean()\n",
    "    \n",
    "    return test_loss, accuracy"
   ]
  },
  {
   "cell_type": "markdown",
   "metadata": {},
   "source": [
    "# Create the model using the Network function defined above\n",
    "__Network(1,2,3)__\n",
    "1. There are 10 inputs (can be seen by checking the shape of the predictors tensor)\n",
    "2. We want two outputs (Probability of not fraudulent and probability of fraudulent)\n",
    "3. The hidden layers are entered as a list (can be experimented with to find best results)\n",
    "\n",
    "__Criterion__\n",
    "\n",
    "Using cross entropy loss in this case\n",
    "\n",
    "__Optimiser__\n",
    "\n",
    "Using the Adam optimiser in this case with a learning rate of 0.001 (Can be experimented with)"
   ]
  },
  {
   "cell_type": "code",
   "execution_count": 14,
   "metadata": {
    "collapsed": true
   },
   "outputs": [],
   "source": [
    "new_model = Network(10, 2, [50,25,10])\n",
    "criterion = nn.CrossEntropyLoss()\n",
    "optimiser = optim.Adam(new_model.parameters(), lr=0.001)"
   ]
  },
  {
   "cell_type": "markdown",
   "metadata": {},
   "source": [
    "# Train the model"
   ]
  },
  {
   "cell_type": "code",
   "execution_count": 15,
   "metadata": {},
   "outputs": [
    {
     "name": "stdout",
     "output_type": "stream",
     "text": [
      "Epoch: 1/150..  Training Loss: 0.000..  Test Loss: 0.693..  Test Accuracy: 0.503\n",
      "Epoch: 14/150..  Training Loss: 0.001..  Test Loss: 0.629..  Test Accuracy: 0.501\n",
      "Epoch: 27/150..  Training Loss: 0.002..  Test Loss: 0.809..  Test Accuracy: 0.504\n",
      "Epoch: 40/150..  Training Loss: 0.003..  Test Loss: 0.812..  Test Accuracy: 0.501\n",
      "Epoch: 53/150..  Training Loss: 0.004..  Test Loss: 0.469..  Test Accuracy: 0.816\n",
      "Epoch: 66/150..  Training Loss: 0.005..  Test Loss: 0.432..  Test Accuracy: 0.880\n",
      "Epoch: 79/150..  Training Loss: 0.005..  Test Loss: 0.421..  Test Accuracy: 0.887\n",
      "Epoch: 92/150..  Training Loss: 0.006..  Test Loss: 0.420..  Test Accuracy: 0.891\n",
      "Epoch: 105/150..  Training Loss: 0.007..  Test Loss: 0.421..  Test Accuracy: 0.892\n",
      "Epoch: 118/150..  Training Loss: 0.008..  Test Loss: 0.400..  Test Accuracy: 0.904\n",
      "Epoch: 131/150..  Training Loss: 0.008..  Test Loss: 0.413..  Test Accuracy: 0.899\n",
      "Epoch: 144/150..  Training Loss: 0.009..  Test Loss: 0.409..  Test Accuracy: 0.903\n"
     ]
    },
    {
     "data": {
      "image/png": "[encoded data removed]",
      "text/plain": [
       "<matplotlib.figure.Figure at 0x1198165f8>"
      ]
     },
     "metadata": {},
     "output_type": "display_data"
    }
   ],
   "source": [
    "num_epochs = 150\n",
    "epochs = num_epochs\n",
    "print_every = 2500\n",
    "steps = 0\n",
    "device = 'cpu'\n",
    "\n",
    "loss_values = []\n",
    "step_values = []\n",
    "count_values = []\n",
    "accuracy_values = []\n",
    "\n",
    "for e in range(epochs):\n",
    "    running_loss = 0\n",
    "\n",
    "    for step, (batch_x, batch_y) in enumerate(trainloader): \n",
    "        batch_x, batch_y = batch_x.to(device), batch_y.to(device)\n",
    "        batch_x = batch_x.float()\n",
    "        batch_y = batch_y.long()\n",
    "        steps += 1\n",
    "        optimiser.zero_grad()\n",
    "        output = new_model.forward(batch_x)\n",
    "        \n",
    "        #print(output.size())\n",
    "        #print(batch_y.squeeze().size())\n",
    "        #break\n",
    "        loss = criterion(output, batch_y.squeeze())\n",
    "        loss.backward()\n",
    "        optimiser.step()\n",
    "        \n",
    "        loss_values.append(loss.item())\n",
    "        step_values.append(steps)\n",
    "        running_loss += loss.item()\n",
    "\n",
    "        if steps % print_every == 0 or steps==1:\n",
    "            # Make sure network is in eval mode for inference\n",
    "            new_model.eval()\n",
    "\n",
    "            # Turn off gradients for validation, saves memory and computations\n",
    "            with torch.no_grad():\n",
    "                test_loss, accuracy = validation(new_model, validloader, criterion)\n",
    "                count_values.append(steps)\n",
    "                accuracy_values.append(accuracy/len(validloader))\n",
    "            print(\"Epoch: {}/{}.. \".format(e+1, epochs),\n",
    "                  \"Training Loss: {:.3f}.. \".format(running_loss/print_every),\n",
    "                  \"Test Loss: {:.3f}.. \".format(test_loss/len(validloader)),\n",
    "                  \"Test Accuracy: {:.3f}\".format(accuracy/len(validloader)))\n",
    "\n",
    "            running_loss = 0\n",
    "\n",
    "            # Make sure training is back on\n",
    "            new_model.train()\n",
    "\n",
    "plt.plot(step_values, loss_values, label = 'Training Loss')\n",
    "plt.plot(count_values, accuracy_values, label = 'Test Accuracy')\n",
    "plt.legend(loc='upper right')\n",
    "plt.title('Model Assessment')\n",
    "plt.show()"
   ]
  },
  {
   "cell_type": "markdown",
   "metadata": {},
   "source": [
    "As can be seen above, the test accuracy starts off around 50%. This makes sense since on the first pass the weights are random and so the model is essentially making a 50:50 guess at the data and since we have constructed the training data to be half fraudulent and half non fraudulent we should see a test accuracy in the vicinity of 50% on the first pass.\n",
    "\n",
    "From here the accuracy increases substantially as the weights are updated via the training process."
   ]
  },
  {
   "cell_type": "markdown",
   "metadata": {},
   "source": [
    "# Test trained model on original data"
   ]
  },
  {
   "cell_type": "markdown",
   "metadata": {},
   "source": [
    "Now we want to test the trained model on the original data and see how it does in classifying fraud and non-fraud data.\n",
    "Firstly, we carry out the same data preprocessing as above on all of the data."
   ]
  },
  {
   "cell_type": "code",
   "execution_count": 16,
   "metadata": {
    "collapsed": true
   },
   "outputs": [],
   "source": [
    "data.drop(['nameOrig'], axis = 1, inplace = True)\n",
    "data.drop(['nameDest'], axis = 1, inplace = True)\n",
    "data.drop(['isFlaggedFraud'], axis = 1, inplace = True)\n",
    "data.drop(['step'], axis = 1, inplace = True)\n",
    "\n",
    "for payment_type in data.type.unique():\n",
    "    data[payment_type] = data['type'] == payment_type\n",
    "\n",
    "for payment_type in data.type.unique():\n",
    "    data[payment_type] = np.where(data[payment_type] == True, 1, 0)\n",
    "\n",
    "data.drop(['type'], axis = 1, inplace = True)"
   ]
  },
  {
   "cell_type": "code",
   "execution_count": 17,
   "metadata": {
    "collapsed": true
   },
   "outputs": [],
   "source": [
    "targets = data.as_matrix(columns = ['isFraud'])\n",
    "predictors = data.drop(['isFraud'], axis = 1)\n",
    "predictors = predictors.as_matrix()\n",
    "\n",
    "targets = torch.tensor(targets)\n",
    "predictors = torch.tensor(predictors)\n",
    "\n",
    "# Loader\n",
    "torch_dataset = Data.TensorDataset(predictors, targets)\n",
    "BATCH_SIZE = 60\n",
    "loader = Data.DataLoader(\n",
    "    dataset = torch_dataset,\n",
    "    batch_size = BATCH_SIZE,\n",
    "    shuffle = True,\n",
    "    num_workers = 2)"
   ]
  },
  {
   "cell_type": "code",
   "execution_count": 21,
   "metadata": {},
   "outputs": [
    {
     "name": "stdout",
     "output_type": "stream",
     "text": [
      "Test Loss: 0.353..  Test Accuracy: 0.963\n"
     ]
    }
   ],
   "source": [
    "new_model.eval()\n",
    "with torch.no_grad():\n",
    "    test_loss, accuracy = validation(new_model,loader,criterion)\n",
    "    print(\"Test Loss: {:.3f}.. \".format(test_loss/len(loader)),\n",
    "          \"Test Accuracy: {:.3f}\".format(accuracy/len(loader)))\n",
    "    "
   ]
  },
  {
   "cell_type": "markdown",
   "metadata": {},
   "source": [
    "Now we can see that our test Accuracy on the data is very high. Although it is not as high as if the model just guessed non-fraud every time, so why is it useful?\n",
    "\n",
    "Well, in this case, a bank or account holder would much much rather a model catch the fraud cases even if it means over flagging fraudulent transactions as the impact of a non-fraudulent transaction being flagged as fraudulent is minimal while a fraudulent transaction being missed would have much larger ramifications.\n",
    "\n",
    "To see how well our model classifies fraudulent transactions we will now test the model on only the fraudulent transactions."
   ]
  },
  {
   "cell_type": "markdown",
   "metadata": {},
   "source": [
    "# Test model on only fraud data"
   ]
  },
  {
   "cell_type": "code",
   "execution_count": 18,
   "metadata": {
    "collapsed": true
   },
   "outputs": [],
   "source": [
    "fraudulent = data[data['isFraud']==1]\n",
    "targets = fraudulent.as_matrix(columns = ['isFraud'])\n",
    "predictors = fraudulent.drop(['isFraud'], axis = 1)\n",
    "predictors = predictors.as_matrix()\n",
    "\n",
    "targets = torch.tensor(targets)\n",
    "predictors = torch.tensor(predictors)\n",
    "\n",
    "# TrainLoader\n",
    "torch_dataset = Data.TensorDataset(predictors, targets)\n",
    "BATCH_SIZE = 60\n",
    "fraudloader = Data.DataLoader(\n",
    "    dataset = torch_dataset,\n",
    "    batch_size = BATCH_SIZE,\n",
    "    shuffle = True,\n",
    "    num_workers = 2)"
   ]
  },
  {
   "cell_type": "code",
   "execution_count": 19,
   "metadata": {},
   "outputs": [
    {
     "name": "stdout",
     "output_type": "stream",
     "text": [
      "Test Loss: 0.447..  Test Accuracy: 0.862\n"
     ]
    }
   ],
   "source": [
    "new_model.eval()\n",
    "with torch.no_grad():\n",
    "    test_loss, accuracy = validation(new_model,fraudloader,criterion)\n",
    "    print(\"Test Loss: {:.3f}.. \".format(test_loss/len(fraudloader)),\n",
    "          \"Test Accuracy: {:.3f}\".format(accuracy/len(fraudloader)))\n",
    "    "
   ]
  },
  {
   "cell_type": "markdown",
   "metadata": {},
   "source": [
    "# Conclusion"
   ]
  },
  {
   "cell_type": "markdown",
   "metadata": {},
   "source": [
    "From the above we can see that the model successfully classifies 96% of transactions, however, more importantly it successfully classifies 86.2% of fraudulent transactions. This high percentage could make it an extremely useful tool in detecting fraudulent transactions.\n",
    "\n",
    "### Additional Notes\n",
    "\n",
    "As this was an exercise in applying a neural network through Pytorch the feature engineering is minimal and the results could undoubtedly be improved through further engineering."
   ]
  }
 ],
 "metadata": {
  "kernelspec": {
   "display_name": "Python 3",
   "language": "python",
   "name": "python3"
  },
  "language_info": {
   "codemirror_mode": {
    "name": "ipython",
    "version": 3
   },
   "file_extension": ".py",
   "mimetype": "text/x-python",
   "name": "python",
   "nbconvert_exporter": "python",
   "pygments_lexer": "ipython3",
   "version": "3.6.3"
  }
 },
 "nbformat": 4,
 "nbformat_minor": 2
}
